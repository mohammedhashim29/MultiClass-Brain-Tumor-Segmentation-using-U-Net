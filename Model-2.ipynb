{
 "cells": [
  {
   "cell_type": "code",
   "execution_count": 9,
   "id": "bc106d8e",
   "metadata": {},
   "outputs": [],
   "source": [
    "import os\n",
    "import numpy as np\n",
    "import nibabel as nib\n",
    "import torch\n",
    "import torch.nn as nn\n",
    "import torch.nn.functional as F\n",
    "from torch.utils.data import Dataset, DataLoader\n",
    "from sklearn.model_selection import train_test_split\n",
    "import matplotlib.pyplot as plt\n",
    "from tqdm import tqdm\n"
   ]
  },
  {
   "cell_type": "code",
   "execution_count": 10,
   "id": "7f2071ad",
   "metadata": {},
   "outputs": [],
   "source": [
    "# Paths and parameters\n",
    "DATASET_DIR = 'BraTS2020_TrainingData'\n",
    "MODALITIES = ['flair', 't1', 't1ce', 't2']\n",
    "LABEL_MAPPING = {0: 0, 1: 1, 2: 2, 4: 3}\n",
    "device = torch.device(\"cuda\" if torch.cuda.is_available() else \"cpu\")\n"
   ]
  },
  {
   "cell_type": "code",
   "execution_count": null,
   "id": "f8afe566",
   "metadata": {},
   "outputs": [],
   "source": [
    "import random  # Make sure this is imported\n",
    "\n",
    "class BraTSDataset(Dataset):\n",
    "    def __init__(self, patient_dirs, augment=False):\n",
    "        self.patient_dirs = patient_dirs\n",
    "        self.augment = augment  # Flag for data augmentation\n",
    "\n",
    "    def __len__(self):\n",
    "        return len(self.patient_dirs)\n",
    "\n",
    "    def __getitem__(self, idx):\n",
    "        patient_path = self.patient_dirs[idx]\n",
    "        modalities = []\n",
    "\n",
    "        for mod in MODALITIES:\n",
    "            img_path = os.path.join(patient_path, f\"{os.path.basename(patient_path)}_{mod}.nii\")\n",
    "            img = nib.load(img_path).get_fdata()\n",
    "            modalities.append(img)\n",
    "\n",
    "        image = np.stack(modalities, axis=0).astype(np.float32)  # [4, H, W, D]\n",
    "        seg_path = os.path.join(patient_path, f\"{os.path.basename(patient_path)}_seg.nii\")\n",
    "        mask = nib.load(seg_path).get_fdata().astype(np.uint8)\n",
    "\n",
    "        # Take mid-slice\n",
    "        mid_slice = image.shape[3] // 2\n",
    "        image_slice = image[:, :, :, mid_slice]   # [4, H, W]\n",
    "        mask_slice = mask[:, :, mid_slice]        # [H, W]\n",
    "\n",
    "        # Normalize per channel (modality)\n",
    "        for i in range(image_slice.shape[0]):\n",
    "            mean = image_slice[i].mean()\n",
    "            std = image_slice[i].std()\n",
    "            if std > 0:\n",
    "                image_slice[i] = (image_slice[i] - mean) / std\n",
    "\n",
    "        # Label remapping (from {0, 1, 2, 4} → {0, 1, 2, 3})\n",
    "        mask_slice = np.vectorize(LABEL_MAPPING.get)(mask_slice)\n",
    "\n",
    "        #Data Augmentation\n",
    "        if self.augment:\n",
    "            if random.random() > 0.5:\n",
    "                image_slice = np.flip(image_slice, axis=1).copy()  # Vertical flip\n",
    "                mask_slice = np.flip(mask_slice, axis=0).copy()\n",
    "            if random.random() > 0.5:\n",
    "                image_slice = np.flip(image_slice, axis=2).copy()  # Horizontal flip\n",
    "                mask_slice = np.flip(mask_slice, axis=1).copy()\n",
    "\n",
    "        return torch.tensor(image_slice, dtype=torch.float32), torch.tensor(mask_slice, dtype=torch.long)\n"
   ]
  },
  {
   "cell_type": "code",
   "execution_count": 12,
   "id": "8f63e1d7",
   "metadata": {},
   "outputs": [],
   "source": [
    "all_patients = [os.path.join(DATASET_DIR, p) for p in os.listdir(DATASET_DIR) if os.path.isdir(os.path.join(DATASET_DIR, p))]\n",
    "train_patients, val_patients = train_test_split(all_patients, test_size=0.2, random_state=42)\n",
    "\n",
    "train_dataset = BraTSDataset(train_patients, augment=True)\n",
    "val_dataset = BraTSDataset(val_patients, augment=False)\n",
    "\n",
    "\n",
    "train_loader = DataLoader(train_dataset, batch_size=2, shuffle=True)\n",
    "val_loader = DataLoader(val_dataset, batch_size=2)\n"
   ]
  },
  {
   "cell_type": "code",
   "execution_count": 13,
   "id": "0e911509",
   "metadata": {},
   "outputs": [],
   "source": [
    "class UNet(nn.Module):\n",
    "    def __init__(self, in_channels=4, out_channels=4):\n",
    "        super(UNet, self).__init__()\n",
    "\n",
    "        def conv_block(in_c, out_c):\n",
    "            return nn.Sequential(\n",
    "                nn.Conv2d(in_c, out_c, kernel_size=3, padding=1),\n",
    "                nn.ReLU(inplace=True),\n",
    "                nn.Conv2d(out_c, out_c, kernel_size=3, padding=1),\n",
    "                nn.ReLU(inplace=True),\n",
    "            )\n",
    "\n",
    "        self.enc1 = conv_block(in_channels, 64)\n",
    "        self.enc2 = conv_block(64, 128)\n",
    "        self.enc3 = conv_block(128, 256)\n",
    "\n",
    "        self.pool = nn.MaxPool2d(2)\n",
    "\n",
    "        self.up2 = nn.ConvTranspose2d(256, 128, kernel_size=2, stride=2)\n",
    "        self.dec2 = conv_block(256, 128)\n",
    "\n",
    "        self.up1 = nn.ConvTranspose2d(128, 64, kernel_size=2, stride=2)\n",
    "        self.dec1 = conv_block(128, 64)\n",
    "\n",
    "        self.final = nn.Conv2d(64, out_channels, kernel_size=1)\n",
    "\n",
    "    def forward(self, x):\n",
    "        e1 = self.enc1(x)\n",
    "        e2 = self.enc2(self.pool(e1))\n",
    "        e3 = self.enc3(self.pool(e2))\n",
    "\n",
    "        d2 = self.up2(e3)\n",
    "        d2 = self.dec2(torch.cat([d2, e2], dim=1))\n",
    "\n",
    "        d1 = self.up1(d2)\n",
    "        d1 = self.dec1(torch.cat([d1, e1], dim=1))\n",
    "\n",
    "        return self.final(d1)\n"
   ]
  },
  {
   "cell_type": "code",
   "execution_count": 14,
   "id": "5d1fa4ee",
   "metadata": {},
   "outputs": [],
   "source": [
    "def train_one_epoch(model, loader, optimizer, criterion):\n",
    "    model.train()\n",
    "    running_loss = 0.0\n",
    "    for img, mask in tqdm(loader):\n",
    "        img, mask = img.to(device), mask.to(device)\n",
    "        optimizer.zero_grad()\n",
    "        out = model(img)\n",
    "        loss = criterion(out, mask)\n",
    "        loss.backward()\n",
    "        optimizer.step()\n",
    "        running_loss += loss.item()\n",
    "    return running_loss / len(loader)\n",
    "\n",
    "def evaluate(model, loader, criterion):\n",
    "    model.eval()\n",
    "    val_loss = 0.0\n",
    "    with torch.no_grad():\n",
    "        for img, mask in loader:\n",
    "            img, mask = img.to(device), mask.to(device)\n",
    "            out = model(img)\n",
    "            loss = criterion(out, mask)\n",
    "            val_loss += loss.item()\n",
    "    return val_loss / len(loader)\n"
   ]
  },
  {
   "cell_type": "code",
   "execution_count": 15,
   "id": "0fdaeb4f",
   "metadata": {},
   "outputs": [
    {
     "name": "stderr",
     "output_type": "stream",
     "text": [
      "100%|██████████| 12/12 [00:51<00:00,  4.32s/it]\n"
     ]
    },
    {
     "name": "stdout",
     "output_type": "stream",
     "text": [
      "Epoch 1: Train Loss = 1.0104, Val Loss = 0.6443\n"
     ]
    },
    {
     "name": "stderr",
     "output_type": "stream",
     "text": [
      "100%|██████████| 12/12 [00:41<00:00,  3.44s/it]\n"
     ]
    },
    {
     "name": "stdout",
     "output_type": "stream",
     "text": [
      "Epoch 2: Train Loss = 0.5267, Val Loss = 0.5724\n"
     ]
    },
    {
     "name": "stderr",
     "output_type": "stream",
     "text": [
      "100%|██████████| 12/12 [00:40<00:00,  3.41s/it]\n"
     ]
    },
    {
     "name": "stdout",
     "output_type": "stream",
     "text": [
      "Epoch 3: Train Loss = 0.3695, Val Loss = 0.4063\n"
     ]
    },
    {
     "name": "stderr",
     "output_type": "stream",
     "text": [
      "100%|██████████| 12/12 [00:39<00:00,  3.31s/it]\n"
     ]
    },
    {
     "name": "stdout",
     "output_type": "stream",
     "text": [
      "Epoch 4: Train Loss = 0.3571, Val Loss = 0.3894\n"
     ]
    },
    {
     "name": "stderr",
     "output_type": "stream",
     "text": [
      "100%|██████████| 12/12 [00:42<00:00,  3.52s/it]\n"
     ]
    },
    {
     "name": "stdout",
     "output_type": "stream",
     "text": [
      "Epoch 5: Train Loss = 0.2800, Val Loss = 0.3983\n"
     ]
    },
    {
     "name": "stderr",
     "output_type": "stream",
     "text": [
      "100%|██████████| 12/12 [00:41<00:00,  3.50s/it]\n"
     ]
    },
    {
     "name": "stdout",
     "output_type": "stream",
     "text": [
      "Epoch 6: Train Loss = 0.2729, Val Loss = 0.3603\n"
     ]
    },
    {
     "name": "stderr",
     "output_type": "stream",
     "text": [
      "100%|██████████| 12/12 [00:35<00:00,  2.94s/it]\n"
     ]
    },
    {
     "name": "stdout",
     "output_type": "stream",
     "text": [
      "Epoch 7: Train Loss = 0.2636, Val Loss = 0.3796\n"
     ]
    },
    {
     "name": "stderr",
     "output_type": "stream",
     "text": [
      "100%|██████████| 12/12 [00:32<00:00,  2.68s/it]\n"
     ]
    },
    {
     "name": "stdout",
     "output_type": "stream",
     "text": [
      "Epoch 8: Train Loss = 0.2394, Val Loss = 0.3775\n"
     ]
    },
    {
     "name": "stderr",
     "output_type": "stream",
     "text": [
      "100%|██████████| 12/12 [00:30<00:00,  2.51s/it]\n"
     ]
    },
    {
     "name": "stdout",
     "output_type": "stream",
     "text": [
      "Epoch 9: Train Loss = 0.2447, Val Loss = 0.3429\n"
     ]
    },
    {
     "name": "stderr",
     "output_type": "stream",
     "text": [
      "100%|██████████| 12/12 [00:29<00:00,  2.46s/it]\n"
     ]
    },
    {
     "name": "stdout",
     "output_type": "stream",
     "text": [
      "Epoch 10: Train Loss = 0.2099, Val Loss = 0.3448\n"
     ]
    },
    {
     "name": "stderr",
     "output_type": "stream",
     "text": [
      "100%|██████████| 12/12 [00:28<00:00,  2.38s/it]\n"
     ]
    },
    {
     "name": "stdout",
     "output_type": "stream",
     "text": [
      "Epoch 11: Train Loss = 0.1788, Val Loss = 0.3766\n"
     ]
    },
    {
     "name": "stderr",
     "output_type": "stream",
     "text": [
      "100%|██████████| 12/12 [00:28<00:00,  2.37s/it]\n"
     ]
    },
    {
     "name": "stdout",
     "output_type": "stream",
     "text": [
      "Epoch 12: Train Loss = 0.1612, Val Loss = 0.3248\n"
     ]
    },
    {
     "name": "stderr",
     "output_type": "stream",
     "text": [
      "100%|██████████| 12/12 [00:27<00:00,  2.27s/it]\n"
     ]
    },
    {
     "name": "stdout",
     "output_type": "stream",
     "text": [
      "Epoch 13: Train Loss = 0.1414, Val Loss = 0.3573\n"
     ]
    },
    {
     "name": "stderr",
     "output_type": "stream",
     "text": [
      "100%|██████████| 12/12 [00:29<00:00,  2.46s/it]\n"
     ]
    },
    {
     "name": "stdout",
     "output_type": "stream",
     "text": [
      "Epoch 14: Train Loss = 0.1466, Val Loss = 0.3601\n"
     ]
    },
    {
     "name": "stderr",
     "output_type": "stream",
     "text": [
      "100%|██████████| 12/12 [00:29<00:00,  2.44s/it]\n"
     ]
    },
    {
     "name": "stdout",
     "output_type": "stream",
     "text": [
      "Epoch 15: Train Loss = 0.1676, Val Loss = 0.3511\n"
     ]
    },
    {
     "name": "stderr",
     "output_type": "stream",
     "text": [
      "100%|██████████| 12/12 [00:28<00:00,  2.35s/it]\n"
     ]
    },
    {
     "name": "stdout",
     "output_type": "stream",
     "text": [
      "Epoch 16: Train Loss = 0.1771, Val Loss = 0.4875\n"
     ]
    },
    {
     "name": "stderr",
     "output_type": "stream",
     "text": [
      "100%|██████████| 12/12 [00:29<00:00,  2.50s/it]\n"
     ]
    },
    {
     "name": "stdout",
     "output_type": "stream",
     "text": [
      "Epoch 17: Train Loss = 0.1672, Val Loss = 0.2740\n"
     ]
    },
    {
     "name": "stderr",
     "output_type": "stream",
     "text": [
      "100%|██████████| 12/12 [00:28<00:00,  2.38s/it]\n"
     ]
    },
    {
     "name": "stdout",
     "output_type": "stream",
     "text": [
      "Epoch 18: Train Loss = 0.1701, Val Loss = 0.2943\n"
     ]
    },
    {
     "name": "stderr",
     "output_type": "stream",
     "text": [
      "100%|██████████| 12/12 [00:27<00:00,  2.30s/it]\n"
     ]
    },
    {
     "name": "stdout",
     "output_type": "stream",
     "text": [
      "Epoch 19: Train Loss = 0.1413, Val Loss = 0.3744\n"
     ]
    },
    {
     "name": "stderr",
     "output_type": "stream",
     "text": [
      "100%|██████████| 12/12 [00:28<00:00,  2.40s/it]\n"
     ]
    },
    {
     "name": "stdout",
     "output_type": "stream",
     "text": [
      "Epoch 20: Train Loss = 0.1454, Val Loss = 0.3185\n"
     ]
    },
    {
     "name": "stderr",
     "output_type": "stream",
     "text": [
      "100%|██████████| 12/12 [00:33<00:00,  2.80s/it]\n"
     ]
    },
    {
     "name": "stdout",
     "output_type": "stream",
     "text": [
      "Epoch 21: Train Loss = 0.1392, Val Loss = 0.4057\n"
     ]
    },
    {
     "name": "stderr",
     "output_type": "stream",
     "text": [
      "100%|██████████| 12/12 [00:31<00:00,  2.60s/it]\n"
     ]
    },
    {
     "name": "stdout",
     "output_type": "stream",
     "text": [
      "Epoch 22: Train Loss = 0.1489, Val Loss = 0.3734\n"
     ]
    },
    {
     "name": "stderr",
     "output_type": "stream",
     "text": [
      "100%|██████████| 12/12 [00:31<00:00,  2.63s/it]\n"
     ]
    },
    {
     "name": "stdout",
     "output_type": "stream",
     "text": [
      "Epoch 23: Train Loss = 0.1262, Val Loss = 0.2916\n"
     ]
    },
    {
     "name": "stderr",
     "output_type": "stream",
     "text": [
      "100%|██████████| 12/12 [00:30<00:00,  2.53s/it]\n"
     ]
    },
    {
     "name": "stdout",
     "output_type": "stream",
     "text": [
      "Epoch 24: Train Loss = 0.1344, Val Loss = 0.2828\n"
     ]
    },
    {
     "name": "stderr",
     "output_type": "stream",
     "text": [
      "100%|██████████| 12/12 [00:23<00:00,  1.94s/it]\n"
     ]
    },
    {
     "name": "stdout",
     "output_type": "stream",
     "text": [
      "Epoch 25: Train Loss = 0.1414, Val Loss = 0.3442\n"
     ]
    },
    {
     "name": "stderr",
     "output_type": "stream",
     "text": [
      "100%|██████████| 12/12 [00:23<00:00,  1.97s/it]\n"
     ]
    },
    {
     "name": "stdout",
     "output_type": "stream",
     "text": [
      "Epoch 26: Train Loss = 0.1232, Val Loss = 0.2953\n"
     ]
    },
    {
     "name": "stderr",
     "output_type": "stream",
     "text": [
      "100%|██████████| 12/12 [00:23<00:00,  1.93s/it]\n"
     ]
    },
    {
     "name": "stdout",
     "output_type": "stream",
     "text": [
      "Epoch 27: Train Loss = 0.1181, Val Loss = 0.2802\n"
     ]
    },
    {
     "name": "stderr",
     "output_type": "stream",
     "text": [
      "100%|██████████| 12/12 [00:23<00:00,  1.92s/it]\n"
     ]
    },
    {
     "name": "stdout",
     "output_type": "stream",
     "text": [
      "Epoch 28: Train Loss = 0.1334, Val Loss = 0.3281\n"
     ]
    },
    {
     "name": "stderr",
     "output_type": "stream",
     "text": [
      "100%|██████████| 12/12 [00:23<00:00,  1.92s/it]\n"
     ]
    },
    {
     "name": "stdout",
     "output_type": "stream",
     "text": [
      "Epoch 29: Train Loss = 0.1344, Val Loss = 0.2788\n"
     ]
    },
    {
     "name": "stderr",
     "output_type": "stream",
     "text": [
      "100%|██████████| 12/12 [00:23<00:00,  1.92s/it]\n"
     ]
    },
    {
     "name": "stdout",
     "output_type": "stream",
     "text": [
      "Epoch 30: Train Loss = 0.1268, Val Loss = 0.3071\n"
     ]
    },
    {
     "name": "stderr",
     "output_type": "stream",
     "text": [
      "100%|██████████| 12/12 [00:23<00:00,  1.93s/it]\n"
     ]
    },
    {
     "name": "stdout",
     "output_type": "stream",
     "text": [
      "Epoch 31: Train Loss = 0.1505, Val Loss = 0.3257\n"
     ]
    },
    {
     "name": "stderr",
     "output_type": "stream",
     "text": [
      "100%|██████████| 12/12 [00:22<00:00,  1.91s/it]\n"
     ]
    },
    {
     "name": "stdout",
     "output_type": "stream",
     "text": [
      "Epoch 32: Train Loss = 0.1549, Val Loss = 0.4476\n"
     ]
    },
    {
     "name": "stderr",
     "output_type": "stream",
     "text": [
      "100%|██████████| 12/12 [00:23<00:00,  1.92s/it]\n"
     ]
    },
    {
     "name": "stdout",
     "output_type": "stream",
     "text": [
      "Epoch 33: Train Loss = 0.1435, Val Loss = 0.2975\n"
     ]
    },
    {
     "name": "stderr",
     "output_type": "stream",
     "text": [
      "100%|██████████| 12/12 [00:23<00:00,  1.98s/it]\n"
     ]
    },
    {
     "name": "stdout",
     "output_type": "stream",
     "text": [
      "Epoch 34: Train Loss = 0.1233, Val Loss = 0.2548\n"
     ]
    },
    {
     "name": "stderr",
     "output_type": "stream",
     "text": [
      "100%|██████████| 12/12 [00:24<00:00,  2.05s/it]\n"
     ]
    },
    {
     "name": "stdout",
     "output_type": "stream",
     "text": [
      "Epoch 35: Train Loss = 0.1237, Val Loss = 0.2617\n"
     ]
    },
    {
     "name": "stderr",
     "output_type": "stream",
     "text": [
      "100%|██████████| 12/12 [00:23<00:00,  1.99s/it]\n"
     ]
    },
    {
     "name": "stdout",
     "output_type": "stream",
     "text": [
      "Epoch 36: Train Loss = 0.1333, Val Loss = 0.2714\n"
     ]
    },
    {
     "name": "stderr",
     "output_type": "stream",
     "text": [
      "100%|██████████| 12/12 [00:23<00:00,  1.97s/it]\n"
     ]
    },
    {
     "name": "stdout",
     "output_type": "stream",
     "text": [
      "Epoch 37: Train Loss = 0.1314, Val Loss = 0.2629\n"
     ]
    },
    {
     "name": "stderr",
     "output_type": "stream",
     "text": [
      "100%|██████████| 12/12 [00:23<00:00,  1.98s/it]\n"
     ]
    },
    {
     "name": "stdout",
     "output_type": "stream",
     "text": [
      "Epoch 38: Train Loss = 0.1224, Val Loss = 0.2854\n"
     ]
    },
    {
     "name": "stderr",
     "output_type": "stream",
     "text": [
      "100%|██████████| 12/12 [00:23<00:00,  1.99s/it]\n"
     ]
    },
    {
     "name": "stdout",
     "output_type": "stream",
     "text": [
      "Epoch 39: Train Loss = 0.1282, Val Loss = 0.3859\n"
     ]
    },
    {
     "name": "stderr",
     "output_type": "stream",
     "text": [
      "100%|██████████| 12/12 [00:24<00:00,  2.01s/it]\n"
     ]
    },
    {
     "name": "stdout",
     "output_type": "stream",
     "text": [
      "Epoch 40: Train Loss = 0.1241, Val Loss = 0.2891\n"
     ]
    },
    {
     "name": "stderr",
     "output_type": "stream",
     "text": [
      "100%|██████████| 12/12 [00:23<00:00,  1.98s/it]\n"
     ]
    },
    {
     "name": "stdout",
     "output_type": "stream",
     "text": [
      "Epoch 41: Train Loss = 0.1104, Val Loss = 0.2403\n"
     ]
    },
    {
     "name": "stderr",
     "output_type": "stream",
     "text": [
      "100%|██████████| 12/12 [00:23<00:00,  1.99s/it]\n"
     ]
    },
    {
     "name": "stdout",
     "output_type": "stream",
     "text": [
      "Epoch 42: Train Loss = 0.1064, Val Loss = 0.2528\n"
     ]
    },
    {
     "name": "stderr",
     "output_type": "stream",
     "text": [
      "100%|██████████| 12/12 [00:23<00:00,  1.99s/it]\n"
     ]
    },
    {
     "name": "stdout",
     "output_type": "stream",
     "text": [
      "Epoch 43: Train Loss = 0.1082, Val Loss = 0.2988\n"
     ]
    },
    {
     "name": "stderr",
     "output_type": "stream",
     "text": [
      "100%|██████████| 12/12 [00:24<00:00,  2.01s/it]\n"
     ]
    },
    {
     "name": "stdout",
     "output_type": "stream",
     "text": [
      "Epoch 44: Train Loss = 0.1176, Val Loss = 0.3356\n"
     ]
    },
    {
     "name": "stderr",
     "output_type": "stream",
     "text": [
      "100%|██████████| 12/12 [00:23<00:00,  1.99s/it]\n"
     ]
    },
    {
     "name": "stdout",
     "output_type": "stream",
     "text": [
      "Epoch 45: Train Loss = 0.1084, Val Loss = 0.2941\n"
     ]
    },
    {
     "name": "stderr",
     "output_type": "stream",
     "text": [
      "100%|██████████| 12/12 [00:24<00:00,  2.00s/it]\n"
     ]
    },
    {
     "name": "stdout",
     "output_type": "stream",
     "text": [
      "Epoch 46: Train Loss = 0.0973, Val Loss = 0.3640\n"
     ]
    },
    {
     "name": "stderr",
     "output_type": "stream",
     "text": [
      "100%|██████████| 12/12 [00:24<00:00,  2.00s/it]\n"
     ]
    },
    {
     "name": "stdout",
     "output_type": "stream",
     "text": [
      "Epoch 47: Train Loss = 0.0958, Val Loss = 0.2630\n"
     ]
    },
    {
     "name": "stderr",
     "output_type": "stream",
     "text": [
      "100%|██████████| 12/12 [00:24<00:00,  2.03s/it]\n"
     ]
    },
    {
     "name": "stdout",
     "output_type": "stream",
     "text": [
      "Epoch 48: Train Loss = 0.0959, Val Loss = 0.2614\n"
     ]
    },
    {
     "name": "stderr",
     "output_type": "stream",
     "text": [
      "100%|██████████| 12/12 [00:24<00:00,  2.02s/it]\n"
     ]
    },
    {
     "name": "stdout",
     "output_type": "stream",
     "text": [
      "Epoch 49: Train Loss = 0.1006, Val Loss = 0.2858\n"
     ]
    },
    {
     "name": "stderr",
     "output_type": "stream",
     "text": [
      "100%|██████████| 12/12 [00:24<00:00,  2.02s/it]\n"
     ]
    },
    {
     "name": "stdout",
     "output_type": "stream",
     "text": [
      "Epoch 50: Train Loss = 0.1070, Val Loss = 0.2716\n"
     ]
    }
   ],
   "source": [
    "model = UNet().to(device)\n",
    "weights = torch.tensor([0.05, 1.0, 1.0, 1.2], device=device)  # Background, Necrosis, Edema, Enhancing\n",
    "criterion = nn.CrossEntropyLoss(weight=weights)\n",
    "optimizer = torch.optim.Adam(model.parameters(), lr=1e-3)\n",
    "\n",
    "num_epochs = 50\n",
    "for epoch in range(num_epochs):\n",
    "    train_loss = train_one_epoch(model, train_loader, optimizer, criterion)\n",
    "    val_loss = evaluate(model, val_loader, criterion)\n",
    "    print(f\"Epoch {epoch+1}: Train Loss = {train_loss:.4f}, Val Loss = {val_loss:.4f}\")\n"
   ]
  },
  {
   "cell_type": "code",
   "execution_count": 16,
   "id": "e4b2cbbf",
   "metadata": {},
   "outputs": [],
   "source": [
    "def visualize_prediction(model, dataset, index=0):\n",
    "    model.eval()\n",
    "    img, mask = dataset[index]\n",
    "    img = img.unsqueeze(0).to(device)\n",
    "\n",
    "    with torch.no_grad():\n",
    "        pred = model(img).argmax(1).squeeze().cpu().numpy()\n",
    "\n",
    "    fig, axs = plt.subplots(1, 3, figsize=(12, 4))\n",
    "    axs[0].imshow(img[0, 0].cpu(), cmap='gray')\n",
    "    axs[0].set_title(\"FLAIR Image\")\n",
    "    axs[1].imshow(mask.cpu(), cmap='jet')\n",
    "    axs[1].set_title(\"Ground Truth\")\n",
    "    axs[2].imshow(pred, cmap='jet')\n",
    "    axs[2].set_title(\"Predicted Mask\")\n",
    "    plt.tight_layout()\n",
    "    plt.show()\n"
   ]
  },
  {
   "cell_type": "code",
   "execution_count": 20,
   "id": "0c79bfed",
   "metadata": {},
   "outputs": [
    {
     "name": "stdout",
     "output_type": "stream",
     "text": [
      "Predicted mask labels: tensor([0, 2])\n"
     ]
    }
   ],
   "source": [
    "pred = torch.argmax(output, dim=1).squeeze(0).cpu()\n",
    "print(\"Predicted mask labels:\", torch.unique(pred))\n"
   ]
  },
  {
   "cell_type": "code",
   "execution_count": 21,
   "id": "04d1959d",
   "metadata": {},
   "outputs": [
    {
     "data": {
      "image/png": "[encoded data removed]",
      "text/plain": [
       "<Figure size 1200x400 with 3 Axes>"
      ]
     },
     "metadata": {},
     "output_type": "display_data"
    }
   ],
   "source": [
    "visualize_prediction(model, val_dataset, index=4)\n"
   ]
  },
  {
   "cell_type": "code",
   "execution_count": 18,
   "id": "3fed7fe9",
   "metadata": {},
   "outputs": [
    {
     "name": "stdout",
     "output_type": "stream",
     "text": [
      "Unique labels in mask: tensor([0, 1, 2, 3])\n"
     ]
    }
   ],
   "source": [
    "img, mask = val_dataset[2]\n",
    "print(\"Unique labels in mask:\", torch.unique(mask))\n"
   ]
  },
  {
   "cell_type": "code",
   "execution_count": 19,
   "id": "c4b5be52",
   "metadata": {},
   "outputs": [
    {
     "name": "stdout",
     "output_type": "stream",
     "text": [
      "Unique labels in prediction: tensor([0, 2])\n"
     ]
    }
   ],
   "source": [
    "model.eval()\n",
    "img, mask = val_dataset[0]\n",
    "img = img.unsqueeze(0).to(device)\n",
    "\n",
    "with torch.no_grad():\n",
    "    output = model(img)\n",
    "    pred = output.argmax(1).squeeze().cpu()\n",
    "    print(\"Unique labels in prediction:\", torch.unique(pred))\n"
   ]
  },
  {
   "cell_type": "code",
   "execution_count": 22,
   "id": "93621cb4",
   "metadata": {},
   "outputs": [],
   "source": [
    "def visualize_prediction(model, dataset, index=0):\n",
    "    model.eval()\n",
    "    img, mask = dataset[index]\n",
    "    img = img.unsqueeze(0).to(device)\n",
    "\n",
    "    with torch.no_grad():\n",
    "        pred = model(img).argmax(1).squeeze().cpu().numpy()\n",
    "\n",
    "    mask = mask.numpy()\n",
    "\n",
    "    # Custom color map\n",
    "    from matplotlib.colors import ListedColormap\n",
    "    tumor_cmap = ListedColormap(['black', 'red', 'green', 'yellow'])  # 0=bg, 1,2,3\n",
    "\n",
    "    fig, axs = plt.subplots(1, 3, figsize=(12, 4))\n",
    "    axs[0].imshow(img[0, 0].cpu(), cmap='gray')\n",
    "    axs[0].set_title(\"FLAIR Image\")\n",
    "    axs[1].imshow(mask, cmap=tumor_cmap, vmin=0, vmax=3)\n",
    "    axs[1].set_title(\"Ground Truth\")\n",
    "    axs[2].imshow(pred, cmap=tumor_cmap, vmin=0, vmax=3)\n",
    "    axs[2].set_title(\"Predicted Mask\")\n",
    "    plt.tight_layout()\n",
    "    plt.show()\n"
   ]
  },
  {
   "cell_type": "code",
   "execution_count": 23,
   "id": "9d1593cc",
   "metadata": {},
   "outputs": [
    {
     "name": "stdout",
     "output_type": "stream",
     "text": [
      "Predicted mask labels: tensor([0, 2, 3])\n",
      "Ground truth labels: tensor([0, 2, 3])\n",
      "Background: Dice = 0.9937, IoU = 0.9875\n",
      "Necrosis: Dice = 1.0000, IoU = 1.0000\n",
      "Edema: Dice = 0.8279, IoU = 0.7064\n",
      "Enhancing Tumor: Dice = 0.0488, IoU = 0.0250\n",
      "Pixel Accuracy: 0.9876\n"
     ]
    }
   ],
   "source": [
    "import torch\n",
    "import matplotlib.pyplot as plt\n",
    "\n",
    "# Pick a validation sample\n",
    "img, mask = val_dataset[3]  # Change index if needed\n",
    "\n",
    "# Move image to device and add batch dimension\n",
    "img_input = img.unsqueeze(0).to(device)\n",
    "\n",
    "# Disable gradient for inference\n",
    "model.eval()\n",
    "with torch.no_grad():\n",
    "    output = model(img_input)  # shape: (1, num_classes, H, W)\n",
    "    pred = torch.argmax(output, dim=1).squeeze(0).cpu()  # (H, W)\n",
    "\n",
    "# Print unique labels in prediction and GT\n",
    "print(\"Predicted mask labels:\", torch.unique(pred))\n",
    "print(\"Ground truth labels:\", torch.unique(mask))\n",
    "\n",
    "# Evaluation\n",
    "metrics = compute_metrics(pred, mask.cpu(), num_classes=4)\n",
    "\n",
    "# Display metrics\n",
    "labels = [\"Background\", \"Necrosis\", \"Edema\", \"Enhancing Tumor\"]\n",
    "for i, (dice, iou) in enumerate(zip(metrics['Dice'], metrics['IoU'])):\n",
    "    print(f\"{labels[i]}: Dice = {dice:.4f}, IoU = {iou:.4f}\")\n",
    "print(f\"Pixel Accuracy: {metrics['Pixel Accuracy']:.4f}\")\n"
   ]
  },
  {
   "cell_type": "code",
   "execution_count": null,
   "id": "93d4dc06",
   "metadata": {},
   "outputs": [],
   "source": [
    "outputs = model(img.unsqueeze(0).to(device))  \n",
    "predicted_mask = outputs.argmax(dim=1).squeeze(0).cpu()\n"
   ]
  },
  {
   "cell_type": "code",
   "execution_count": 25,
   "id": "dc730776",
   "metadata": {},
   "outputs": [
    {
     "name": "stdout",
     "output_type": "stream",
     "text": [
      "Background: Dice = 0.9937, IoU = 0.9875\n",
      "Necrosis: Dice = 1.0000, IoU = 1.0000\n",
      "Edema: Dice = 0.8279, IoU = 0.7064\n",
      "Enhancing Tumor: Dice = 0.0488, IoU = 0.0250\n",
      "Pixel-wise Accuracy: 0.9876\n"
     ]
    }
   ],
   "source": [
    "ground_truth_mask = mask.cpu()\n",
    "\n",
    "metrics = compute_metrics(predicted_mask, ground_truth_mask)\n",
    "\n",
    "labels = [\"Background\", \"Necrosis\", \"Edema\", \"Enhancing Tumor\"]\n",
    "for i, (dice, iou) in enumerate(zip(metrics['Dice'], metrics['IoU'])):\n",
    "    print(f\"{labels[i]}: Dice = {dice:.4f}, IoU = {iou:.4f}\")\n",
    "\n",
    "print(f\"Pixel-wise Accuracy: {metrics['Pixel Accuracy']:.4f}\")\n"
   ]
  }
 ],
 "metadata": {
  "kernelspec": {
   "display_name": "Python 3",
   "language": "python",
   "name": "python3"
  },
  "language_info": {
   "codemirror_mode": {
    "name": "ipython",
    "version": 3
   },
   "file_extension": ".py",
   "mimetype": "text/x-python",
   "name": "python",
   "nbconvert_exporter": "python",
   "pygments_lexer": "ipython3",
   "version": "3.10.8"
  }
 },
 "nbformat": 4,
 "nbformat_minor": 5
}
